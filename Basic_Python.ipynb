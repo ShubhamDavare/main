{
  "nbformat": 4,
  "nbformat_minor": 0,
  "metadata": {
    "colab": {
      "provenance": [],
      "authorship_tag": "ABX9TyN8YCy0Md0BVekdFEwNajSQ",
      "include_colab_link": true
    },
    "kernelspec": {
      "name": "python3",
      "display_name": "Python 3"
    },
    "language_info": {
      "name": "python"
    }
  },
  "cells": [
    {
      "cell_type": "markdown",
      "metadata": {
        "id": "view-in-github",
        "colab_type": "text"
      },
      "source": [
        "<a href=\"https://colab.research.google.com/github/shubd15/main/blob/main/Basic_Python.ipynb\" target=\"_parent\"><img src=\"https://colab.research.google.com/assets/colab-badge.svg\" alt=\"Open In Colab\"/></a>"
      ]
    },
    {
      "cell_type": "markdown",
      "source": [
        "**Prints statements** - Possbile ways"
      ],
      "metadata": {
        "id": "7XJ1jruc5GUS"
      }
    },
    {
      "cell_type": "code",
      "source": [
        "name = \"Shubham\"\n",
        "greeting = \"Good morning\"\n",
        "\n",
        "print(name,greeting)"
      ],
      "metadata": {
        "colab": {
          "base_uri": "https://localhost:8080/"
        },
        "id": "_JupjuVm4-PH",
        "outputId": "42da8b26-912f-4679-f00a-ababa93df6ef"
      },
      "execution_count": 29,
      "outputs": [
        {
          "output_type": "stream",
          "name": "stdout",
          "text": [
            "Shubham Good morning\n"
          ]
        }
      ]
    },
    {
      "cell_type": "code",
      "source": [
        "print(\"Hello\",name, greeting)"
      ],
      "metadata": {
        "colab": {
          "base_uri": "https://localhost:8080/"
        },
        "id": "hwGEf6mz5Vuk",
        "outputId": "c6c9bbfb-a057-49a1-88d1-ca939099ecef"
      },
      "execution_count": 30,
      "outputs": [
        {
          "output_type": "stream",
          "name": "stdout",
          "text": [
            "Hello Shubham Good morning\n"
          ]
        }
      ]
    },
    {
      "cell_type": "code",
      "source": [
        "print(\"Hello {} {}\".format(name,greeting))"
      ],
      "metadata": {
        "colab": {
          "base_uri": "https://localhost:8080/"
        },
        "id": "BcuRrugt5cVK",
        "outputId": "f21697d5-2a6d-4dd1-f0c4-9603657b78f5"
      },
      "execution_count": 31,
      "outputs": [
        {
          "output_type": "stream",
          "name": "stdout",
          "text": [
            "Hello Shubham Good morning\n"
          ]
        }
      ]
    },
    {
      "cell_type": "markdown",
      "source": [
        "Use of ***seperator and end operator*** in print statements"
      ],
      "metadata": {
        "id": "M0iqAWvp5kc9"
      }
    },
    {
      "cell_type": "code",
      "source": [
        "# Sep operator is used to separate words in single print statement\n",
        "print(\"Hey\", \"There\", sep=';') # Seperating two words with semi colon in single print statement\n",
        "print(\"Hey\",\"There\",sep=\" \")  # Seperating two words with space in single print statement"
      ],
      "metadata": {
        "colab": {
          "base_uri": "https://localhost:8080/"
        },
        "id": "0qbjsSJB5xBN",
        "outputId": "6c2373e6-36ec-4fc1-a153-ab7dd0ce3082"
      },
      "execution_count": 33,
      "outputs": [
        {
          "output_type": "stream",
          "name": "stdout",
          "text": [
            "Hey;There\n",
            "Hey There\n"
          ]
        }
      ]
    },
    {
      "cell_type": "code",
      "source": [
        "# End operator is used to separate different print statement\n",
        "\n",
        "# Below will print two print statements on two lines. As every print statement is printed on new line\n",
        "print(\"Hello\")\n",
        "print(\"Shubham\")\n",
        "\n",
        "# THis will print two print statements on same lines. Seperated by space as we have added end =\" \" space in end attribute\n",
        "print(\"Hello\",end=\" \")\n",
        "print(\"Shubham\", end = \" \")\n",
        "print()\n",
        "\n",
        "# \n",
        "print(\"Hello\",end=\";\") #Semi colon\n",
        "print(\"Shubham\")"
      ],
      "metadata": {
        "colab": {
          "base_uri": "https://localhost:8080/"
        },
        "id": "yH8dgwlB6PRV",
        "outputId": "0a1acd62-85f8-44a3-b2c1-429e2eb9d5ea"
      },
      "execution_count": 37,
      "outputs": [
        {
          "output_type": "stream",
          "name": "stdout",
          "text": [
            "Hello\n",
            "Shubham\n",
            "Hello Shubham \n",
            "Hello;Shubham\n"
          ]
        }
      ]
    },
    {
      "cell_type": "code",
      "source": [],
      "metadata": {
        "id": "IZYHU4XF84FV"
      },
      "execution_count": null,
      "outputs": []
    },
    {
      "cell_type": "code",
      "source": [
        "print(range(5))  # 0 1 2 3 4 "
      ],
      "metadata": {
        "id": "htq3Lsn37L7Z"
      },
      "execution_count": null,
      "outputs": []
    }
  ]
}