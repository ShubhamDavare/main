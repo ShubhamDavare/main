{
 "cells": [
  {
   "cell_type": "code",
   "execution_count": 14,
   "id": "4646f7b4",
   "metadata": {
    "scrolled": true
   },
   "outputs": [
    {
     "name": "stdout",
     "output_type": "stream",
     "text": [
      "*\n",
      "**\n",
      "***\n",
      "****\n",
      "*****\n",
      "\n",
      "\n",
      "*****\n",
      "****\n",
      "***\n",
      "**\n",
      "*\n",
      "\n",
      "\n",
      "*   *\n",
      "*   *\n",
      "*   *\n",
      "*   *\n",
      "*   *\n",
      "\n",
      "\n",
      "*****\n",
      "*  *\n",
      "* *\n",
      "**\n",
      "*\n",
      "\n",
      "\n",
      "*****\n",
      "*   *\n",
      "*   *\n",
      "*   *\n",
      "*****\n"
     ]
    }
   ],
   "source": [
    "n = 5\n",
    "\n",
    "for i in range(1,n+1):\n",
    "    print(\"*\"*i,end='')\n",
    "    print()\n",
    "print(\"\\n\")\n",
    "\n",
    "for i in range(n,0,-1):\n",
    "    print(\"*\"*i,end='')\n",
    "    print()\n",
    "\n",
    "print(\"\\n\")\n",
    "\n",
    "for i in range(1,n+1):\n",
    "    for j in range(1,n+1):\n",
    "        if j==1 or j==n:\n",
    "            print(\"*\",end=\"\")\n",
    "        else:\n",
    "            print(\" \",end='')\n",
    "    print()\n",
    "\n",
    "print(\"\\n\")\n",
    "for i in range(n, 0 , -1):\n",
    "    for j in range(1,i+1):\n",
    "        if j==1 or j==i or i==n:\n",
    "            print(\"*\",end='')\n",
    "        else:\n",
    "            print(\" \",end='')\n",
    "    print()\n",
    "    \n",
    "print(\"\\n\")\n",
    "for i in range(1,n+1):\n",
    "    for j in range(1,n+1):\n",
    "        if j==1 or j==n or i==1 or i==n:\n",
    "            print(\"*\",end='')\n",
    "        else:\n",
    "            print(\" \",end='')\n",
    "    print()"
   ]
  },
  {
   "cell_type": "code",
   "execution_count": 15,
   "id": "e0e87931",
   "metadata": {},
   "outputs": [
    {
     "name": "stdout",
     "output_type": "stream",
     "text": [
      "               "
     ]
    }
   ],
   "source": [
    "n= 5\n",
    "\n",
    "for i in range(1,n+1):\n",
    "    for j in range(1,n-1):\n",
    "        print(\" \",end='')"
   ]
  },
  {
   "cell_type": "code",
   "execution_count": null,
   "id": "43fc5e95",
   "metadata": {},
   "outputs": [],
   "source": []
  }
 ],
 "metadata": {
  "kernelspec": {
   "display_name": "Python 3 (ipykernel)",
   "language": "python",
   "name": "python3"
  },
  "language_info": {
   "codemirror_mode": {
    "name": "ipython",
    "version": 3
   },
   "file_extension": ".py",
   "mimetype": "text/x-python",
   "name": "python",
   "nbconvert_exporter": "python",
   "pygments_lexer": "ipython3",
   "version": "3.9.12"
  }
 },
 "nbformat": 4,
 "nbformat_minor": 5
}
